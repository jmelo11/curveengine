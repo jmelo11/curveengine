{
 "cells": [
  {
   "cell_type": "code",
   "execution_count": 1,
   "metadata": {},
   "outputs": [
    {
     "ename": "KeyError",
     "evalue": "\"Failed to create rate helper HelperType.Deposit/1 at curve ICP: Key not found: 'calendar' \"",
     "output_type": "error",
     "traceback": [
      "\u001b[0;31m---------------------------------------------------------------------------\u001b[0m",
      "\u001b[0;31mKeyError\u001b[0m                                  Traceback (most recent call last)",
      "File \u001b[0;32m/opt/homebrew/lib/python3.10/site-packages/curveengine-1.0.0-py3.10.egg/curveengine.py:83\u001b[0m, in \u001b[0;36mCurveEngine.__buildPiecewiseCurve\u001b[0;34m(self, data)\u001b[0m\n\u001b[1;32m     82\u001b[0m \u001b[39mif\u001b[39;00m helperType \u001b[39m==\u001b[39m HelperType\u001b[39m.\u001b[39mDeposit:\n\u001b[0;32m---> 83\u001b[0m     helper \u001b[39m=\u001b[39m createDepositRateHelper(\n\u001b[1;32m     84\u001b[0m         helperConfig, marketConfig, \u001b[39mself\u001b[39;49m\u001b[39m.\u001b[39;49mcurveHandles, \u001b[39mself\u001b[39;49m\u001b[39m.\u001b[39;49mindexes)\n\u001b[1;32m     85\u001b[0m \u001b[39melif\u001b[39;00m helperType \u001b[39m==\u001b[39m HelperType\u001b[39m.\u001b[39mOIS:\n",
      "File \u001b[0;32m/opt/homebrew/lib/python3.10/site-packages/curveengine-1.0.0-py3.10.egg/parsing/ratehelpers.py:98\u001b[0m, in \u001b[0;36mcreateDepositRateHelper\u001b[0;34m(helperConfig, marketConfig, *args, **kwargs)\u001b[0m\n\u001b[1;32m     97\u001b[0m settlementDays \u001b[39m=\u001b[39m helperConfig[\u001b[39m'\u001b[39m\u001b[39msettlementDays\u001b[39m\u001b[39m'\u001b[39m]\n\u001b[0;32m---> 98\u001b[0m calendar \u001b[39m=\u001b[39m helperConfig[\u001b[39m'\u001b[39;49m\u001b[39mcalendar\u001b[39;49m\u001b[39m'\u001b[39;49m]\n\u001b[1;32m     99\u001b[0m convention \u001b[39m=\u001b[39m helperConfig[\u001b[39m'\u001b[39m\u001b[39mconvention\u001b[39m\u001b[39m'\u001b[39m]\n",
      "\u001b[0;31mKeyError\u001b[0m: 'calendar'",
      "\nDuring handling of the above exception, another exception occurred:\n",
      "\u001b[0;31mKeyError\u001b[0m                                  Traceback (most recent call last)",
      "Cell \u001b[0;32mIn[1], line 10\u001b[0m\n\u001b[1;32m      7\u001b[0m \u001b[39mwith\u001b[39;00m \u001b[39mopen\u001b[39m(\u001b[39m'\u001b[39m\u001b[39mpiecewise.json\u001b[39m\u001b[39m'\u001b[39m) \u001b[39mas\u001b[39;00m f:\n\u001b[1;32m      8\u001b[0m     file \u001b[39m=\u001b[39m json\u001b[39m.\u001b[39mload(f)\n\u001b[0;32m---> 10\u001b[0m cm \u001b[39m=\u001b[39m CurveEngine(file)\n\u001b[1;32m     12\u001b[0m \u001b[39mfor\u001b[39;00m curveName, curve \u001b[39min\u001b[39;00m cm\u001b[39m.\u001b[39mcurves\u001b[39m.\u001b[39mitems():\n\u001b[1;32m     13\u001b[0m     \u001b[39mprint\u001b[39m(curveName, curve\u001b[39m.\u001b[39mnodes())\n",
      "File \u001b[0;32m/opt/homebrew/lib/python3.10/site-packages/curveengine-1.0.0-py3.10.egg/curveengine.py:13\u001b[0m, in \u001b[0;36mCurveEngine.__init__\u001b[0;34m(self, data, curves, indexes)\u001b[0m\n\u001b[1;32m     11\u001b[0m \u001b[39mself\u001b[39m\u001b[39m.\u001b[39mindexes \u001b[39m=\u001b[39m indexes\n\u001b[1;32m     12\u001b[0m localData \u001b[39m=\u001b[39m data\u001b[39m.\u001b[39mcopy()\n\u001b[0;32m---> 13\u001b[0m \u001b[39mself\u001b[39;49m\u001b[39m.\u001b[39;49minitialize(localData)\n",
      "File \u001b[0;32m/opt/homebrew/lib/python3.10/site-packages/curveengine-1.0.0-py3.10.egg/curveengine.py:37\u001b[0m, in \u001b[0;36mCurveEngine.initialize\u001b[0;34m(self, data)\u001b[0m\n\u001b[1;32m     35\u001b[0m     \u001b[39mself\u001b[39m\u001b[39m.\u001b[39m__buildIndexes(parsed)\n\u001b[1;32m     36\u001b[0m \u001b[39mif\u001b[39;00m curveName \u001b[39mnot\u001b[39;00m \u001b[39min\u001b[39;00m \u001b[39mself\u001b[39m\u001b[39m.\u001b[39mcurves\u001b[39m.\u001b[39mkeys():\n\u001b[0;32m---> 37\u001b[0m     \u001b[39mself\u001b[39;49m\u001b[39m.\u001b[39;49m__buildCurve(parsed)\n",
      "File \u001b[0;32m/opt/homebrew/lib/python3.10/site-packages/curveengine-1.0.0-py3.10.egg/curveengine.py:58\u001b[0m, in \u001b[0;36mCurveEngine.__buildCurve\u001b[0;34m(self, data)\u001b[0m\n\u001b[1;32m     56\u001b[0m config \u001b[39m=\u001b[39m data[\u001b[39m'\u001b[39m\u001b[39mcurveConfig\u001b[39m\u001b[39m'\u001b[39m]\n\u001b[1;32m     57\u001b[0m \u001b[39mif\u001b[39;00m config[\u001b[39m'\u001b[39m\u001b[39mcurveType\u001b[39m\u001b[39m'\u001b[39m] \u001b[39m==\u001b[39m CurveType\u001b[39m.\u001b[39mPiecewise:\n\u001b[0;32m---> 58\u001b[0m     curve \u001b[39m=\u001b[39m \u001b[39mself\u001b[39;49m\u001b[39m.\u001b[39;49m__buildPiecewiseCurve(data)\n\u001b[1;32m     59\u001b[0m \u001b[39melif\u001b[39;00m config[\u001b[39m'\u001b[39m\u001b[39mcurveType\u001b[39m\u001b[39m'\u001b[39m] \u001b[39m==\u001b[39m CurveType\u001b[39m.\u001b[39mDiscount:\n\u001b[1;32m     60\u001b[0m     curve \u001b[39m=\u001b[39m \u001b[39mself\u001b[39m\u001b[39m.\u001b[39m__buildDiscountingCurve(data)\n",
      "File \u001b[0;32m/opt/homebrew/lib/python3.10/site-packages/curveengine-1.0.0-py3.10.egg/curveengine.py:113\u001b[0m, in \u001b[0;36mCurveEngine.__buildPiecewiseCurve\u001b[0;34m(self, data)\u001b[0m\n\u001b[1;32m    110\u001b[0m         \u001b[39mraise\u001b[39;00m \u001b[39mException\u001b[39;00m(\n\u001b[1;32m    111\u001b[0m             \u001b[39m'\u001b[39m\u001b[39mUnknown rate helper type: \u001b[39m\u001b[39m{}\u001b[39;00m\u001b[39m'\u001b[39m\u001b[39m.\u001b[39mformat(helperType))\n\u001b[1;32m    112\u001b[0m \u001b[39mexcept\u001b[39;00m \u001b[39mKeyError\u001b[39;00m \u001b[39mas\u001b[39;00m e:\n\u001b[0;32m--> 113\u001b[0m     \u001b[39mraise\u001b[39;00m \u001b[39mKeyError\u001b[39;00m(\u001b[39m'\u001b[39m\u001b[39mFailed to create rate helper \u001b[39m\u001b[39m{helper}\u001b[39;00m\u001b[39m/\u001b[39m\u001b[39m{i}\u001b[39;00m\u001b[39m at curve \u001b[39m\u001b[39m{curveName}\u001b[39;00m\u001b[39m: Key not found: \u001b[39m\u001b[39m{error}\u001b[39;00m\u001b[39m \u001b[39m\u001b[39m'\u001b[39m\u001b[39m.\u001b[39mformat(\n\u001b[1;32m    114\u001b[0m         helper\u001b[39m=\u001b[39mhelperType, curveName\u001b[39m=\u001b[39mdata[\u001b[39m'\u001b[39m\u001b[39mcurveName\u001b[39m\u001b[39m'\u001b[39m], error\u001b[39m=\u001b[39me, i\u001b[39m=\u001b[39mi))\n\u001b[1;32m    115\u001b[0m \u001b[39mexcept\u001b[39;00m \u001b[39mException\u001b[39;00m \u001b[39mas\u001b[39;00m e:\n\u001b[1;32m    116\u001b[0m     \u001b[39mraise\u001b[39;00m \u001b[39mException\u001b[39;00m(\u001b[39m'\u001b[39m\u001b[39mFailed to create rate helper \u001b[39m\u001b[39m{helper}\u001b[39;00m\u001b[39m/\u001b[39m\u001b[39m{i}\u001b[39;00m\u001b[39m at curve \u001b[39m\u001b[39m{curveName}\u001b[39;00m\u001b[39m: \u001b[39m\u001b[39m{error}\u001b[39;00m\u001b[39m \u001b[39m\u001b[39m'\u001b[39m\u001b[39m.\u001b[39mformat(\n\u001b[1;32m    117\u001b[0m         helper\u001b[39m=\u001b[39mhelperType, curveName\u001b[39m=\u001b[39mdata[\u001b[39m'\u001b[39m\u001b[39mcurveName\u001b[39m\u001b[39m'\u001b[39m], error\u001b[39m=\u001b[39me, i\u001b[39m=\u001b[39mi))\n",
      "\u001b[0;31mKeyError\u001b[0m: \"Failed to create rate helper HelperType.Deposit/1 at curve ICP: Key not found: 'calendar' \""
     ]
    }
   ],
   "source": [
    "import json\n",
    "import sys\n",
    "sys.path.append('..')\n",
    "from curveengine import CurveEngine\n",
    "\n",
    "\n",
    "with open('piecewise.json') as f:\n",
    "    file = json.load(f)\n",
    "\n",
    "cm = CurveEngine(file)\n",
    "\n",
    "for curveName, curve in cm.curves.items():\n",
    "    print(curveName, curve.nodes())"
   ]
  }
 ],
 "metadata": {
  "kernelspec": {
   "display_name": "Python 3",
   "language": "python",
   "name": "python3"
  },
  "language_info": {
   "codemirror_mode": {
    "name": "ipython",
    "version": 3
   },
   "file_extension": ".py",
   "mimetype": "text/x-python",
   "name": "python",
   "nbconvert_exporter": "python",
   "pygments_lexer": "ipython3",
   "version": "3.10.10"
  },
  "orig_nbformat": 4
 },
 "nbformat": 4,
 "nbformat_minor": 2
}
