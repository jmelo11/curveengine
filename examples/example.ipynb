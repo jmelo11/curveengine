{
 "cells": [
  {
   "cell_type": "code",
   "execution_count": 14,
   "metadata": {},
   "outputs": [
    {
     "ename": "ConfigurationError",
     "evalue": "Invalid configuration",
     "output_type": "error",
     "traceback": [
      "\u001b[1;31m---------------------------------------------------------------------------\u001b[0m",
      "\u001b[1;31mValueError\u001b[0m                                Traceback (most recent call last)",
      "File \u001b[1;32mc:\\Users\\cjmo2443\\.conda\\envs\\py310\\lib\\site-packages\\curveengine\\parsing\\checks.py:1311\u001b[0m, in \u001b[0;36mcheckConfiguration\u001b[1;34m(data)\u001b[0m\n\u001b[0;32m   1310\u001b[0m \u001b[39mtry\u001b[39;00m:\n\u001b[1;32m-> 1311\u001b[0m     checkDictStructure(data, reference)\n\u001b[0;32m   1312\u001b[0m \u001b[39mexcept\u001b[39;00m \u001b[39mException\u001b[39;00m \u001b[39mas\u001b[39;00m exc:\n",
      "File \u001b[1;32mc:\\Users\\cjmo2443\\.conda\\envs\\py310\\lib\\site-packages\\curveengine\\parsing\\checks.py:355\u001b[0m, in \u001b[0;36mcheckDictStructure\u001b[1;34m(input, reference)\u001b[0m\n\u001b[0;32m    354\u001b[0m \u001b[39mif\u001b[39;00m key \u001b[39min\u001b[39;00m reference\u001b[39m.\u001b[39mkeys():\n\u001b[1;32m--> 355\u001b[0m     reference[key](\u001b[39minput\u001b[39;49m[key])\n",
      "File \u001b[1;32mc:\\Users\\cjmo2443\\.conda\\envs\\py310\\lib\\site-packages\\curveengine\\parsing\\checks.py:115\u001b[0m, in \u001b[0;36mcheckDate\u001b[1;34m(value)\u001b[0m\n\u001b[0;32m    114\u001b[0m \u001b[39mif\u001b[39;00m \u001b[39mnot\u001b[39;00m re\u001b[39m.\u001b[39mmatch(\u001b[39mr\u001b[39m\u001b[39m'\u001b[39m\u001b[39m^\u001b[39m\u001b[39m\\\u001b[39m\u001b[39md\u001b[39m\u001b[39m{4}\u001b[39;00m\u001b[39m-\u001b[39m\u001b[39m\\\u001b[39m\u001b[39md\u001b[39m\u001b[39m{2}\u001b[39;00m\u001b[39m-\u001b[39m\u001b[39m\\\u001b[39m\u001b[39md\u001b[39m\u001b[39m{2}\u001b[39;00m\u001b[39m$\u001b[39m\u001b[39m'\u001b[39m, value):\n\u001b[1;32m--> 115\u001b[0m     \u001b[39mraise\u001b[39;00m \u001b[39mValueError\u001b[39;00m(\u001b[39mf\u001b[39m\u001b[39m'\u001b[39m\u001b[39m{\u001b[39;00mvalue\u001b[39m}\u001b[39;00m\u001b[39m is not a valid date\u001b[39m\u001b[39m'\u001b[39m)\n",
      "\u001b[1;31mValueError\u001b[0m: 2023-05-25T04:00:00.000Z is not a valid date",
      "\nThe above exception was the direct cause of the following exception:\n",
      "\u001b[1;31mConfigurationError\u001b[0m                        Traceback (most recent call last)",
      "\u001b[1;32mc:\\Users\\cjmo2443\\Desktop\\Desarrollo\\curveengine\\examples\\example.ipynb Cell 1\u001b[0m in \u001b[0;36m<cell line: 9>\u001b[1;34m()\u001b[0m\n\u001b[0;32m      <a href='vscode-notebook-cell:/c%3A/Users/cjmo2443/Desktop/Desarrollo/curveengine/examples/example.ipynb#W0sZmlsZQ%3D%3D?line=5'>6</a>\u001b[0m \u001b[39mwith\u001b[39;00m \u001b[39mopen\u001b[39m(\u001b[39m'\u001b[39m\u001b[39mtest.json\u001b[39m\u001b[39m'\u001b[39m) \u001b[39mas\u001b[39;00m f:\n\u001b[0;32m      <a href='vscode-notebook-cell:/c%3A/Users/cjmo2443/Desktop/Desarrollo/curveengine/examples/example.ipynb#W0sZmlsZQ%3D%3D?line=6'>7</a>\u001b[0m     file \u001b[39m=\u001b[39m json\u001b[39m.\u001b[39mload(f)\n\u001b[1;32m----> <a href='vscode-notebook-cell:/c%3A/Users/cjmo2443/Desktop/Desarrollo/curveengine/examples/example.ipynb#W0sZmlsZQ%3D%3D?line=8'>9</a>\u001b[0m cm \u001b[39m=\u001b[39m ce\u001b[39m.\u001b[39;49mCurveEngine(file)\n\u001b[0;32m     <a href='vscode-notebook-cell:/c%3A/Users/cjmo2443/Desktop/Desarrollo/curveengine/examples/example.ipynb#W0sZmlsZQ%3D%3D?line=10'>11</a>\u001b[0m df \u001b[39m=\u001b[39m pd\u001b[39m.\u001b[39mDataFrame()\n\u001b[0;32m     <a href='vscode-notebook-cell:/c%3A/Users/cjmo2443/Desktop/Desarrollo/curveengine/examples/example.ipynb#W0sZmlsZQ%3D%3D?line=11'>12</a>\u001b[0m t \u001b[39m=\u001b[39m np\u001b[39m.\u001b[39marange(\u001b[39m0\u001b[39m, \u001b[39m20\u001b[39m, \u001b[39m0.5\u001b[39m)\n",
      "File \u001b[1;32mc:\\Users\\cjmo2443\\.conda\\envs\\py310\\lib\\site-packages\\curveengine\\engine.py:31\u001b[0m, in \u001b[0;36mCurveEngine.__init__\u001b[1;34m(self, data, curves, indexes)\u001b[0m\n\u001b[0;32m     29\u001b[0m \u001b[39mself\u001b[39m\u001b[39m.\u001b[39mindexes \u001b[39m=\u001b[39m indexes\n\u001b[0;32m     30\u001b[0m localData \u001b[39m=\u001b[39m data\u001b[39m.\u001b[39mcopy()\n\u001b[1;32m---> 31\u001b[0m checkConfiguration(localData)\n\u001b[0;32m     32\u001b[0m \u001b[39mself\u001b[39m\u001b[39m.\u001b[39m__initialize(localData)\n",
      "File \u001b[1;32mc:\\Users\\cjmo2443\\.conda\\envs\\py310\\lib\\site-packages\\curveengine\\parsing\\checks.py:1313\u001b[0m, in \u001b[0;36mcheckConfiguration\u001b[1;34m(data)\u001b[0m\n\u001b[0;32m   1311\u001b[0m     checkDictStructure(data, reference)\n\u001b[0;32m   1312\u001b[0m \u001b[39mexcept\u001b[39;00m \u001b[39mException\u001b[39;00m \u001b[39mas\u001b[39;00m exc:\n\u001b[1;32m-> 1313\u001b[0m     \u001b[39mraise\u001b[39;00m ConfigurationError(\u001b[39m'\u001b[39m\u001b[39mInvalid configuration\u001b[39m\u001b[39m'\u001b[39m) \u001b[39mfrom\u001b[39;00m \u001b[39mexc\u001b[39;00m\n",
      "\u001b[1;31mConfigurationError\u001b[0m: Invalid configuration"
     ]
    }
   ],
   "source": [
    "import json\n",
    "import pandas as pd \n",
    "import curveengine as ce\n",
    "import numpy as np\n",
    "\n",
    "with open('test.json') as f:\n",
    "    file = json.load(f)\n",
    "\n",
    "cm = ce.CurveEngine(file)\n",
    "\n",
    "df = pd.DataFrame()\n",
    "t = np.arange(0, 20, 0.5)\n",
    "for curveName, curve in cm.curves.items():\n",
    "    values = [curve.discount(t) for t in t]\n",
    "    df[curveName] = values\n",
    "df.plot(title='Discount Curves')"
   ]
  },
  {
   "cell_type": "code",
   "execution_count": null,
   "metadata": {},
   "outputs": [
    {
     "name": "stdout",
     "output_type": "stream",
     "text": [
      "- First exception\n",
      "- Second exception\n",
      "- - Third exception\n",
      "\n",
      "  - Third exception\n",
      "\n"
     ]
    }
   ],
   "source": [
    "class ExceptionGroup(Exception):\n",
    "    def __init__(self, message, exceptions=None):\n",
    "        super().__init__(message)\n",
    "        self.exceptions = exceptions or []\n",
    "\n",
    "    def add_exception(self, exception):\n",
    "        self.exceptions.append(exception)\n",
    "\n",
    "    def __str__(self):\n",
    "        return self._format_exceptions()\n",
    "\n",
    "    def _format_exceptions(self, indent=0):\n",
    "        tree = ''\n",
    "        for exception in self.exceptions:\n",
    "            tree += ' ' * indent + '- ' + str(exception) + '\\n'\n",
    "            if isinstance(exception, ExceptionGroup):\n",
    "                tree += exception._format_exceptions(indent=indent + 2)\n",
    "        return tree\n",
    "\n",
    "\n",
    "# Usage example:\n",
    "try:\n",
    "    # Code that may raise exceptions\n",
    "    raise Exception('First exception')\n",
    "except Exception as e:\n",
    "    group = ExceptionGroup('Top-level exception group')\n",
    "    group.add_exception(e)\n",
    "\n",
    "    # Adding more exceptions to the group\n",
    "    exception2 = Exception('Second exception')\n",
    "    group.add_exception(exception2)\n",
    "\n",
    "    sub_group = ExceptionGroup('Sub-group')\n",
    "    exception3 = Exception('Third exception')\n",
    "    sub_group.add_exception(exception3)\n",
    "\n",
    "    group.add_exception(sub_group)\n",
    "\n",
    "    # Printing the exception group\n",
    "    print(group)"
   ]
  }
 ],
 "metadata": {
  "kernelspec": {
   "display_name": "Python 3",
   "language": "python",
   "name": "python3"
  },
  "language_info": {
   "codemirror_mode": {
    "name": "ipython",
    "version": 3
   },
   "file_extension": ".py",
   "mimetype": "text/x-python",
   "name": "python",
   "nbconvert_exporter": "python",
   "pygments_lexer": "ipython3",
   "version": "3.10.11"
  },
  "orig_nbformat": 4
 },
 "nbformat": 4,
 "nbformat_minor": 2
}
